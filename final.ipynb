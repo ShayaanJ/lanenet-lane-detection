{
 "cells": [
  {
   "cell_type": "code",
   "execution_count": 1,
   "metadata": {},
   "outputs": [],
   "source": [
    "import os\n",
    "import json\n",
    "from collections import OrderedDict\n",
    "\n",
    "from evaluate_lanenet_on_tusimple import eval_lanenet\n",
    "from modules.homo_util import homoify\n",
    "from modules.video_util import videoify, video_split\n",
    "%matplotlib inline"
   ]
  },
  {
   "cell_type": "code",
   "execution_count": 2,
   "metadata": {},
   "outputs": [],
   "source": [
    "DATA_PATH = \"../test_set\"\n",
    "JSON_PATH = \"outputs/json/\"\n",
    "SAVE_DIR = \"outputs/seg_results/\"\n",
    "VID_DIR = \"outputs/vids/\"\n",
    "\n",
    "CONST_IMAGE = (1312, 1312)\n",
    "LANENET_WEIGHTS=\"weights/tusimple_lanenet.ckpt\""
   ]
  },
  {
   "cell_type": "code",
   "execution_count": 3,
   "metadata": {},
   "outputs": [],
   "source": [
    "# frames_dir = \"../test_set/clips/0531/1492626499813320696\"\n",
    "# frames_dir = \"../test_set/clips/0530/1492626191132352208_0\"\n",
    "# frames_dir = \"../test_set/clips/0601/1494452387590928848\"\n",
    "frames_dir = \"../images\""
   ]
  },
  {
   "cell_type": "code",
   "execution_count": 4,
   "metadata": {},
   "outputs": [
    {
     "data": {
      "text/plain": [
       "''"
      ]
     },
     "execution_count": 4,
     "metadata": {},
     "output_type": "execute_result"
    }
   ],
   "source": [
    "clip_num = \"_\".join(frames_dir.split(\"/\")[3:])\n",
    "save_json = os.path.join(JSON_PATH, clip_num + \".json\")\n",
    "vid_path = os.path.join(VID_DIR, clip_num + \".mp4\")\n",
    "clip_num"
   ]
  },
  {
   "attachments": {},
   "cell_type": "markdown",
   "metadata": {},
   "source": [
    "Detecting Lanes using lanenet"
   ]
  },
  {
   "cell_type": "code",
   "execution_count": 5,
   "metadata": {},
   "outputs": [
    {
     "name": "stdout",
     "output_type": "stream",
     "text": [
      "Detecting lanes\n"
     ]
    },
    {
     "name": "stderr",
     "output_type": "stream",
     "text": [
      "  0%|          | 0/90 [00:00<?, ?it/s]2022-12-24 01:10:15.130 | INFO     | evaluate_lanenet_on_tusimple:eval_lanenet:152 - Mean inference time every single image: 0.38095s\n",
      "  1%|          | 1/90 [00:00<01:09,  1.28it/s]"
     ]
    },
    {
     "name": "stdout",
     "output_type": "stream",
     "text": [
      "outputs/seg_results/images\n",
      "outputs/seg_results/images/result\n"
     ]
    },
    {
     "name": "stderr",
     "output_type": "stream",
     "text": [
      "  2%|▏         | 2/90 [00:01<00:56,  1.56it/s]"
     ]
    },
    {
     "name": "stdout",
     "output_type": "stream",
     "text": [
      "outputs/seg_results/images\n",
      "outputs/seg_results/images/result\n"
     ]
    },
    {
     "name": "stderr",
     "output_type": "stream",
     "text": [
      "  3%|▎         | 3/90 [00:01<00:48,  1.81it/s]"
     ]
    },
    {
     "name": "stdout",
     "output_type": "stream",
     "text": [
      "outputs/seg_results/images\n",
      "outputs/seg_results/images/result\n"
     ]
    },
    {
     "name": "stderr",
     "output_type": "stream",
     "text": [
      "  4%|▍         | 4/90 [00:02<00:40,  2.14it/s]"
     ]
    },
    {
     "name": "stdout",
     "output_type": "stream",
     "text": [
      "outputs/seg_results/images\n",
      "outputs/seg_results/images/result\n"
     ]
    },
    {
     "name": "stderr",
     "output_type": "stream",
     "text": [
      "  6%|▌         | 5/90 [00:02<00:35,  2.38it/s]"
     ]
    },
    {
     "name": "stdout",
     "output_type": "stream",
     "text": [
      "outputs/seg_results/images\n",
      "outputs/seg_results/images/result\n"
     ]
    },
    {
     "name": "stderr",
     "output_type": "stream",
     "text": [
      "  7%|▋         | 6/90 [00:02<00:32,  2.57it/s]"
     ]
    },
    {
     "name": "stdout",
     "output_type": "stream",
     "text": [
      "outputs/seg_results/images\n",
      "outputs/seg_results/images/result\n"
     ]
    },
    {
     "name": "stderr",
     "output_type": "stream",
     "text": [
      "  8%|▊         | 7/90 [00:03<00:33,  2.51it/s]"
     ]
    },
    {
     "name": "stdout",
     "output_type": "stream",
     "text": [
      "outputs/seg_results/images\n",
      "outputs/seg_results/images/result\n"
     ]
    },
    {
     "name": "stderr",
     "output_type": "stream",
     "text": [
      "  9%|▉         | 8/90 [00:03<00:31,  2.62it/s]"
     ]
    },
    {
     "name": "stdout",
     "output_type": "stream",
     "text": [
      "outputs/seg_results/images\n",
      "outputs/seg_results/images/result\n"
     ]
    },
    {
     "name": "stderr",
     "output_type": "stream",
     "text": [
      " 10%|█         | 9/90 [00:03<00:31,  2.61it/s]"
     ]
    },
    {
     "name": "stdout",
     "output_type": "stream",
     "text": [
      "outputs/seg_results/images\n",
      "outputs/seg_results/images/result\n"
     ]
    },
    {
     "name": "stderr",
     "output_type": "stream",
     "text": [
      " 11%|█         | 10/90 [00:04<00:31,  2.58it/s]"
     ]
    },
    {
     "name": "stdout",
     "output_type": "stream",
     "text": [
      "outputs/seg_results/images\n",
      "outputs/seg_results/images/result\n"
     ]
    },
    {
     "name": "stderr",
     "output_type": "stream",
     "text": [
      " 12%|█▏        | 11/90 [00:04<00:30,  2.62it/s]"
     ]
    },
    {
     "name": "stdout",
     "output_type": "stream",
     "text": [
      "outputs/seg_results/images\n",
      "outputs/seg_results/images/result\n"
     ]
    },
    {
     "name": "stderr",
     "output_type": "stream",
     "text": [
      " 13%|█▎        | 12/90 [00:05<00:28,  2.70it/s]"
     ]
    },
    {
     "name": "stdout",
     "output_type": "stream",
     "text": [
      "outputs/seg_results/images\n",
      "outputs/seg_results/images/result\n"
     ]
    },
    {
     "name": "stderr",
     "output_type": "stream",
     "text": [
      " 14%|█▍        | 13/90 [00:05<00:31,  2.48it/s]"
     ]
    },
    {
     "name": "stdout",
     "output_type": "stream",
     "text": [
      "outputs/seg_results/images\n",
      "outputs/seg_results/images/result\n"
     ]
    },
    {
     "name": "stderr",
     "output_type": "stream",
     "text": [
      " 16%|█▌        | 14/90 [00:05<00:29,  2.59it/s]"
     ]
    },
    {
     "name": "stdout",
     "output_type": "stream",
     "text": [
      "outputs/seg_results/images\n",
      "outputs/seg_results/images/result\n"
     ]
    },
    {
     "name": "stderr",
     "output_type": "stream",
     "text": [
      " 17%|█▋        | 15/90 [00:06<00:27,  2.73it/s]"
     ]
    },
    {
     "name": "stdout",
     "output_type": "stream",
     "text": [
      "outputs/seg_results/images\n",
      "outputs/seg_results/images/result\n"
     ]
    },
    {
     "name": "stderr",
     "output_type": "stream",
     "text": [
      " 18%|█▊        | 16/90 [00:06<00:26,  2.78it/s]"
     ]
    },
    {
     "name": "stdout",
     "output_type": "stream",
     "text": [
      "outputs/seg_results/images\n",
      "outputs/seg_results/images/result\n"
     ]
    },
    {
     "name": "stderr",
     "output_type": "stream",
     "text": [
      " 19%|█▉        | 17/90 [00:06<00:26,  2.80it/s]"
     ]
    },
    {
     "name": "stdout",
     "output_type": "stream",
     "text": [
      "outputs/seg_results/images\n",
      "outputs/seg_results/images/result\n"
     ]
    },
    {
     "name": "stderr",
     "output_type": "stream",
     "text": [
      " 20%|██        | 18/90 [00:07<00:26,  2.74it/s]"
     ]
    },
    {
     "name": "stdout",
     "output_type": "stream",
     "text": [
      "outputs/seg_results/images\n",
      "outputs/seg_results/images/result\n"
     ]
    },
    {
     "name": "stderr",
     "output_type": "stream",
     "text": [
      " 21%|██        | 19/90 [00:07<00:25,  2.79it/s]"
     ]
    },
    {
     "name": "stdout",
     "output_type": "stream",
     "text": [
      "outputs/seg_results/images\n",
      "outputs/seg_results/images/result\n"
     ]
    },
    {
     "name": "stderr",
     "output_type": "stream",
     "text": [
      " 22%|██▏       | 20/90 [00:07<00:23,  2.98it/s]"
     ]
    },
    {
     "name": "stdout",
     "output_type": "stream",
     "text": [
      "outputs/seg_results/images\n",
      "outputs/seg_results/images/result\n"
     ]
    },
    {
     "name": "stderr",
     "output_type": "stream",
     "text": [
      " 23%|██▎       | 21/90 [00:08<00:23,  2.96it/s]"
     ]
    },
    {
     "name": "stdout",
     "output_type": "stream",
     "text": [
      "outputs/seg_results/images\n",
      "outputs/seg_results/images/result\n"
     ]
    },
    {
     "name": "stderr",
     "output_type": "stream",
     "text": [
      " 24%|██▍       | 22/90 [00:08<00:22,  2.96it/s]"
     ]
    },
    {
     "name": "stdout",
     "output_type": "stream",
     "text": [
      "outputs/seg_results/images\n",
      "outputs/seg_results/images/result\n"
     ]
    },
    {
     "name": "stderr",
     "output_type": "stream",
     "text": [
      " 26%|██▌       | 23/90 [00:08<00:23,  2.90it/s]"
     ]
    },
    {
     "name": "stdout",
     "output_type": "stream",
     "text": [
      "outputs/seg_results/images\n",
      "outputs/seg_results/images/result\n"
     ]
    },
    {
     "name": "stderr",
     "output_type": "stream",
     "text": [
      " 27%|██▋       | 24/90 [00:09<00:25,  2.59it/s]"
     ]
    },
    {
     "name": "stdout",
     "output_type": "stream",
     "text": [
      "outputs/seg_results/images\n",
      "outputs/seg_results/images/result\n"
     ]
    },
    {
     "name": "stderr",
     "output_type": "stream",
     "text": [
      " 28%|██▊       | 25/90 [00:09<00:24,  2.65it/s]"
     ]
    },
    {
     "name": "stdout",
     "output_type": "stream",
     "text": [
      "outputs/seg_results/images\n",
      "outputs/seg_results/images/result\n"
     ]
    },
    {
     "name": "stderr",
     "output_type": "stream",
     "text": [
      " 29%|██▉       | 26/90 [00:10<00:23,  2.69it/s]"
     ]
    },
    {
     "name": "stdout",
     "output_type": "stream",
     "text": [
      "outputs/seg_results/images\n",
      "outputs/seg_results/images/result\n"
     ]
    },
    {
     "name": "stderr",
     "output_type": "stream",
     "text": [
      " 30%|███       | 27/90 [00:10<00:23,  2.65it/s]"
     ]
    },
    {
     "name": "stdout",
     "output_type": "stream",
     "text": [
      "outputs/seg_results/images\n",
      "outputs/seg_results/images/result\n"
     ]
    },
    {
     "name": "stderr",
     "output_type": "stream",
     "text": [
      " 31%|███       | 28/90 [00:10<00:23,  2.66it/s]"
     ]
    },
    {
     "name": "stdout",
     "output_type": "stream",
     "text": [
      "outputs/seg_results/images\n",
      "outputs/seg_results/images/result\n"
     ]
    },
    {
     "name": "stderr",
     "output_type": "stream",
     "text": [
      " 32%|███▏      | 29/90 [00:11<00:25,  2.42it/s]"
     ]
    },
    {
     "name": "stdout",
     "output_type": "stream",
     "text": [
      "outputs/seg_results/images\n",
      "outputs/seg_results/images/result\n"
     ]
    },
    {
     "name": "stderr",
     "output_type": "stream",
     "text": [
      " 33%|███▎      | 30/90 [00:11<00:26,  2.24it/s]"
     ]
    },
    {
     "name": "stdout",
     "output_type": "stream",
     "text": [
      "outputs/seg_results/images\n",
      "outputs/seg_results/images/result\n"
     ]
    },
    {
     "name": "stderr",
     "output_type": "stream",
     "text": [
      " 34%|███▍      | 31/90 [00:12<00:24,  2.39it/s]"
     ]
    },
    {
     "name": "stdout",
     "output_type": "stream",
     "text": [
      "outputs/seg_results/images\n",
      "outputs/seg_results/images/result\n"
     ]
    },
    {
     "name": "stderr",
     "output_type": "stream",
     "text": [
      " 36%|███▌      | 32/90 [00:12<00:22,  2.53it/s]"
     ]
    },
    {
     "name": "stdout",
     "output_type": "stream",
     "text": [
      "outputs/seg_results/images\n",
      "outputs/seg_results/images/result\n"
     ]
    },
    {
     "name": "stderr",
     "output_type": "stream",
     "text": [
      " 37%|███▋      | 33/90 [00:12<00:20,  2.74it/s]"
     ]
    },
    {
     "name": "stdout",
     "output_type": "stream",
     "text": [
      "outputs/seg_results/images\n",
      "outputs/seg_results/images/result\n"
     ]
    },
    {
     "name": "stderr",
     "output_type": "stream",
     "text": [
      " 38%|███▊      | 34/90 [00:13<00:19,  2.82it/s]"
     ]
    },
    {
     "name": "stdout",
     "output_type": "stream",
     "text": [
      "outputs/seg_results/images\n",
      "outputs/seg_results/images/result\n"
     ]
    },
    {
     "name": "stderr",
     "output_type": "stream",
     "text": [
      " 39%|███▉      | 35/90 [00:13<00:21,  2.60it/s]"
     ]
    },
    {
     "name": "stdout",
     "output_type": "stream",
     "text": [
      "outputs/seg_results/images\n",
      "outputs/seg_results/images/result\n"
     ]
    },
    {
     "name": "stderr",
     "output_type": "stream",
     "text": [
      " 40%|████      | 36/90 [00:13<00:19,  2.84it/s]"
     ]
    },
    {
     "name": "stdout",
     "output_type": "stream",
     "text": [
      "outputs/seg_results/images\n",
      "outputs/seg_results/images/result\n"
     ]
    },
    {
     "name": "stderr",
     "output_type": "stream",
     "text": [
      " 41%|████      | 37/90 [00:14<00:17,  2.95it/s]"
     ]
    },
    {
     "name": "stdout",
     "output_type": "stream",
     "text": [
      "outputs/seg_results/images\n",
      "outputs/seg_results/images/result\n"
     ]
    },
    {
     "name": "stderr",
     "output_type": "stream",
     "text": [
      " 42%|████▏     | 38/90 [00:14<00:17,  2.97it/s]"
     ]
    },
    {
     "name": "stdout",
     "output_type": "stream",
     "text": [
      "outputs/seg_results/images\n",
      "outputs/seg_results/images/result\n"
     ]
    },
    {
     "name": "stderr",
     "output_type": "stream",
     "text": [
      " 43%|████▎     | 39/90 [00:14<00:16,  3.03it/s]"
     ]
    },
    {
     "name": "stdout",
     "output_type": "stream",
     "text": [
      "outputs/seg_results/images\n",
      "outputs/seg_results/images/result\n"
     ]
    },
    {
     "name": "stderr",
     "output_type": "stream",
     "text": [
      " 44%|████▍     | 40/90 [00:15<00:15,  3.20it/s]"
     ]
    },
    {
     "name": "stdout",
     "output_type": "stream",
     "text": [
      "outputs/seg_results/images\n",
      "outputs/seg_results/images/result\n"
     ]
    },
    {
     "name": "stderr",
     "output_type": "stream",
     "text": [
      " 46%|████▌     | 41/90 [00:15<00:14,  3.33it/s]"
     ]
    },
    {
     "name": "stdout",
     "output_type": "stream",
     "text": [
      "outputs/seg_results/images\n",
      "outputs/seg_results/images/result\n"
     ]
    },
    {
     "name": "stderr",
     "output_type": "stream",
     "text": [
      " 47%|████▋     | 42/90 [00:15<00:14,  3.33it/s]"
     ]
    },
    {
     "name": "stdout",
     "output_type": "stream",
     "text": [
      "outputs/seg_results/images\n",
      "outputs/seg_results/images/result\n"
     ]
    },
    {
     "name": "stderr",
     "output_type": "stream",
     "text": [
      " 48%|████▊     | 43/90 [00:16<00:15,  3.11it/s]"
     ]
    },
    {
     "name": "stdout",
     "output_type": "stream",
     "text": [
      "outputs/seg_results/images\n",
      "outputs/seg_results/images/result\n"
     ]
    },
    {
     "name": "stderr",
     "output_type": "stream",
     "text": [
      " 49%|████▉     | 44/90 [00:16<00:15,  3.05it/s]"
     ]
    },
    {
     "name": "stdout",
     "output_type": "stream",
     "text": [
      "outputs/seg_results/images\n",
      "outputs/seg_results/images/result\n"
     ]
    },
    {
     "name": "stderr",
     "output_type": "stream",
     "text": [
      " 50%|█████     | 45/90 [00:16<00:15,  2.98it/s]"
     ]
    },
    {
     "name": "stdout",
     "output_type": "stream",
     "text": [
      "outputs/seg_results/images\n",
      "outputs/seg_results/images/result\n"
     ]
    },
    {
     "name": "stderr",
     "output_type": "stream",
     "text": [
      " 51%|█████     | 46/90 [00:17<00:16,  2.59it/s]"
     ]
    },
    {
     "name": "stdout",
     "output_type": "stream",
     "text": [
      "outputs/seg_results/images\n",
      "outputs/seg_results/images/result\n"
     ]
    },
    {
     "name": "stderr",
     "output_type": "stream",
     "text": [
      " 52%|█████▏    | 47/90 [00:17<00:17,  2.40it/s]"
     ]
    },
    {
     "name": "stdout",
     "output_type": "stream",
     "text": [
      "outputs/seg_results/images\n",
      "outputs/seg_results/images/result\n"
     ]
    },
    {
     "name": "stderr",
     "output_type": "stream",
     "text": [
      " 53%|█████▎    | 48/90 [00:18<00:17,  2.35it/s]"
     ]
    },
    {
     "name": "stdout",
     "output_type": "stream",
     "text": [
      "outputs/seg_results/images\n",
      "outputs/seg_results/images/result\n"
     ]
    },
    {
     "name": "stderr",
     "output_type": "stream",
     "text": [
      " 54%|█████▍    | 49/90 [00:18<00:17,  2.38it/s]"
     ]
    },
    {
     "name": "stdout",
     "output_type": "stream",
     "text": [
      "outputs/seg_results/images\n",
      "outputs/seg_results/images/result\n"
     ]
    },
    {
     "name": "stderr",
     "output_type": "stream",
     "text": [
      " 56%|█████▌    | 50/90 [00:19<00:15,  2.52it/s]"
     ]
    },
    {
     "name": "stdout",
     "output_type": "stream",
     "text": [
      "outputs/seg_results/images\n",
      "outputs/seg_results/images/result\n"
     ]
    },
    {
     "name": "stderr",
     "output_type": "stream",
     "text": [
      " 57%|█████▋    | 51/90 [00:19<00:14,  2.69it/s]"
     ]
    },
    {
     "name": "stdout",
     "output_type": "stream",
     "text": [
      "outputs/seg_results/images\n",
      "outputs/seg_results/images/result\n"
     ]
    },
    {
     "name": "stderr",
     "output_type": "stream",
     "text": [
      " 58%|█████▊    | 52/90 [00:19<00:13,  2.79it/s]"
     ]
    },
    {
     "name": "stdout",
     "output_type": "stream",
     "text": [
      "outputs/seg_results/images\n",
      "outputs/seg_results/images/result\n"
     ]
    },
    {
     "name": "stderr",
     "output_type": "stream",
     "text": [
      " 59%|█████▉    | 53/90 [00:19<00:13,  2.84it/s]"
     ]
    },
    {
     "name": "stdout",
     "output_type": "stream",
     "text": [
      "outputs/seg_results/images\n",
      "outputs/seg_results/images/result\n"
     ]
    },
    {
     "name": "stderr",
     "output_type": "stream",
     "text": [
      " 60%|██████    | 54/90 [00:20<00:12,  2.91it/s]"
     ]
    },
    {
     "name": "stdout",
     "output_type": "stream",
     "text": [
      "outputs/seg_results/images\n",
      "outputs/seg_results/images/result\n"
     ]
    },
    {
     "name": "stderr",
     "output_type": "stream",
     "text": [
      " 61%|██████    | 55/90 [00:20<00:11,  2.94it/s]"
     ]
    },
    {
     "name": "stdout",
     "output_type": "stream",
     "text": [
      "outputs/seg_results/images\n",
      "outputs/seg_results/images/result\n"
     ]
    },
    {
     "name": "stderr",
     "output_type": "stream",
     "text": [
      " 62%|██████▏   | 56/90 [00:20<00:11,  2.94it/s]"
     ]
    },
    {
     "name": "stdout",
     "output_type": "stream",
     "text": [
      "outputs/seg_results/images\n",
      "outputs/seg_results/images/result\n"
     ]
    },
    {
     "name": "stderr",
     "output_type": "stream",
     "text": [
      " 63%|██████▎   | 57/90 [00:21<00:11,  2.88it/s]"
     ]
    },
    {
     "name": "stdout",
     "output_type": "stream",
     "text": [
      "outputs/seg_results/images\n",
      "outputs/seg_results/images/result\n"
     ]
    },
    {
     "name": "stderr",
     "output_type": "stream",
     "text": [
      " 64%|██████▍   | 58/90 [00:21<00:11,  2.77it/s]"
     ]
    },
    {
     "name": "stdout",
     "output_type": "stream",
     "text": [
      "outputs/seg_results/images\n",
      "outputs/seg_results/images/result\n"
     ]
    },
    {
     "name": "stderr",
     "output_type": "stream",
     "text": [
      " 66%|██████▌   | 59/90 [00:22<00:11,  2.70it/s]"
     ]
    },
    {
     "name": "stdout",
     "output_type": "stream",
     "text": [
      "outputs/seg_results/images\n",
      "outputs/seg_results/images/result\n"
     ]
    },
    {
     "name": "stderr",
     "output_type": "stream",
     "text": [
      " 67%|██████▋   | 60/90 [00:22<00:11,  2.68it/s]"
     ]
    },
    {
     "name": "stdout",
     "output_type": "stream",
     "text": [
      "outputs/seg_results/images\n",
      "outputs/seg_results/images/result\n"
     ]
    },
    {
     "name": "stderr",
     "output_type": "stream",
     "text": [
      " 68%|██████▊   | 61/90 [00:23<00:12,  2.42it/s]"
     ]
    },
    {
     "name": "stdout",
     "output_type": "stream",
     "text": [
      "outputs/seg_results/images\n",
      "outputs/seg_results/images/result\n"
     ]
    },
    {
     "name": "stderr",
     "output_type": "stream",
     "text": [
      " 69%|██████▉   | 62/90 [00:23<00:12,  2.32it/s]"
     ]
    },
    {
     "name": "stdout",
     "output_type": "stream",
     "text": [
      "outputs/seg_results/images\n",
      "outputs/seg_results/images/result\n"
     ]
    },
    {
     "name": "stderr",
     "output_type": "stream",
     "text": [
      " 70%|███████   | 63/90 [00:24<00:12,  2.08it/s]"
     ]
    },
    {
     "name": "stdout",
     "output_type": "stream",
     "text": [
      "outputs/seg_results/images\n",
      "outputs/seg_results/images/result\n"
     ]
    },
    {
     "name": "stderr",
     "output_type": "stream",
     "text": [
      " 71%|███████   | 64/90 [00:24<00:12,  2.08it/s]"
     ]
    },
    {
     "name": "stdout",
     "output_type": "stream",
     "text": [
      "outputs/seg_results/images\n",
      "outputs/seg_results/images/result\n"
     ]
    },
    {
     "name": "stderr",
     "output_type": "stream",
     "text": [
      " 72%|███████▏  | 65/90 [00:25<00:12,  1.95it/s]"
     ]
    },
    {
     "name": "stdout",
     "output_type": "stream",
     "text": [
      "outputs/seg_results/images\n",
      "outputs/seg_results/images/result\n"
     ]
    },
    {
     "name": "stderr",
     "output_type": "stream",
     "text": [
      " 73%|███████▎  | 66/90 [00:25<00:11,  2.03it/s]"
     ]
    },
    {
     "name": "stdout",
     "output_type": "stream",
     "text": [
      "outputs/seg_results/images\n",
      "outputs/seg_results/images/result\n"
     ]
    },
    {
     "name": "stderr",
     "output_type": "stream",
     "text": [
      " 74%|███████▍  | 67/90 [00:26<00:12,  1.77it/s]"
     ]
    },
    {
     "name": "stdout",
     "output_type": "stream",
     "text": [
      "outputs/seg_results/images\n",
      "outputs/seg_results/images/result\n"
     ]
    },
    {
     "name": "stderr",
     "output_type": "stream",
     "text": [
      " 76%|███████▌  | 68/90 [00:26<00:11,  1.90it/s]"
     ]
    },
    {
     "name": "stdout",
     "output_type": "stream",
     "text": [
      "outputs/seg_results/images\n",
      "outputs/seg_results/images/result\n"
     ]
    },
    {
     "name": "stderr",
     "output_type": "stream",
     "text": [
      " 77%|███████▋  | 69/90 [00:27<00:11,  1.80it/s]"
     ]
    },
    {
     "name": "stdout",
     "output_type": "stream",
     "text": [
      "outputs/seg_results/images\n",
      "outputs/seg_results/images/result\n"
     ]
    },
    {
     "name": "stderr",
     "output_type": "stream",
     "text": [
      " 78%|███████▊  | 70/90 [00:27<00:10,  1.86it/s]"
     ]
    },
    {
     "name": "stdout",
     "output_type": "stream",
     "text": [
      "outputs/seg_results/images\n",
      "outputs/seg_results/images/result\n"
     ]
    },
    {
     "name": "stderr",
     "output_type": "stream",
     "text": [
      " 79%|███████▉  | 71/90 [00:28<00:08,  2.14it/s]"
     ]
    },
    {
     "name": "stdout",
     "output_type": "stream",
     "text": [
      "outputs/seg_results/images\n",
      "outputs/seg_results/images/result\n"
     ]
    },
    {
     "name": "stderr",
     "output_type": "stream",
     "text": [
      " 80%|████████  | 72/90 [00:28<00:07,  2.29it/s]"
     ]
    },
    {
     "name": "stdout",
     "output_type": "stream",
     "text": [
      "outputs/seg_results/images\n",
      "outputs/seg_results/images/result\n"
     ]
    },
    {
     "name": "stderr",
     "output_type": "stream",
     "text": [
      " 81%|████████  | 73/90 [00:28<00:07,  2.43it/s]"
     ]
    },
    {
     "name": "stdout",
     "output_type": "stream",
     "text": [
      "outputs/seg_results/images\n",
      "outputs/seg_results/images/result\n"
     ]
    },
    {
     "name": "stderr",
     "output_type": "stream",
     "text": [
      " 82%|████████▏ | 74/90 [00:29<00:06,  2.61it/s]"
     ]
    },
    {
     "name": "stdout",
     "output_type": "stream",
     "text": [
      "outputs/seg_results/images\n",
      "outputs/seg_results/images/result\n"
     ]
    },
    {
     "name": "stderr",
     "output_type": "stream",
     "text": [
      " 83%|████████▎ | 75/90 [00:29<00:05,  2.80it/s]"
     ]
    },
    {
     "name": "stdout",
     "output_type": "stream",
     "text": [
      "outputs/seg_results/images\n",
      "outputs/seg_results/images/result\n"
     ]
    },
    {
     "name": "stderr",
     "output_type": "stream",
     "text": [
      " 84%|████████▍ | 76/90 [00:29<00:04,  2.97it/s]"
     ]
    },
    {
     "name": "stdout",
     "output_type": "stream",
     "text": [
      "outputs/seg_results/images\n",
      "outputs/seg_results/images/result\n"
     ]
    },
    {
     "name": "stderr",
     "output_type": "stream",
     "text": [
      " 86%|████████▌ | 77/90 [00:30<00:04,  2.96it/s]"
     ]
    },
    {
     "name": "stdout",
     "output_type": "stream",
     "text": [
      "outputs/seg_results/images\n",
      "outputs/seg_results/images/result\n"
     ]
    },
    {
     "name": "stderr",
     "output_type": "stream",
     "text": [
      " 87%|████████▋ | 78/90 [00:30<00:04,  2.90it/s]"
     ]
    },
    {
     "name": "stdout",
     "output_type": "stream",
     "text": [
      "outputs/seg_results/images\n",
      "outputs/seg_results/images/result\n"
     ]
    },
    {
     "name": "stderr",
     "output_type": "stream",
     "text": [
      " 88%|████████▊ | 79/90 [00:30<00:03,  2.93it/s]"
     ]
    },
    {
     "name": "stdout",
     "output_type": "stream",
     "text": [
      "outputs/seg_results/images\n",
      "outputs/seg_results/images/result\n"
     ]
    },
    {
     "name": "stderr",
     "output_type": "stream",
     "text": [
      " 89%|████████▉ | 80/90 [00:31<00:03,  2.69it/s]"
     ]
    },
    {
     "name": "stdout",
     "output_type": "stream",
     "text": [
      "outputs/seg_results/images\n",
      "outputs/seg_results/images/result\n"
     ]
    },
    {
     "name": "stderr",
     "output_type": "stream",
     "text": [
      " 90%|█████████ | 81/90 [00:31<00:03,  2.60it/s]"
     ]
    },
    {
     "name": "stdout",
     "output_type": "stream",
     "text": [
      "outputs/seg_results/images\n",
      "outputs/seg_results/images/result\n"
     ]
    },
    {
     "name": "stderr",
     "output_type": "stream",
     "text": [
      " 91%|█████████ | 82/90 [00:32<00:03,  2.31it/s]"
     ]
    },
    {
     "name": "stdout",
     "output_type": "stream",
     "text": [
      "outputs/seg_results/images\n",
      "outputs/seg_results/images/result\n"
     ]
    },
    {
     "name": "stderr",
     "output_type": "stream",
     "text": [
      " 92%|█████████▏| 83/90 [00:32<00:02,  2.36it/s]"
     ]
    },
    {
     "name": "stdout",
     "output_type": "stream",
     "text": [
      "outputs/seg_results/images\n",
      "outputs/seg_results/images/result\n"
     ]
    },
    {
     "name": "stderr",
     "output_type": "stream",
     "text": [
      " 93%|█████████▎| 84/90 [00:33<00:02,  2.20it/s]"
     ]
    },
    {
     "name": "stdout",
     "output_type": "stream",
     "text": [
      "outputs/seg_results/images\n",
      "outputs/seg_results/images/result\n"
     ]
    },
    {
     "name": "stderr",
     "output_type": "stream",
     "text": [
      " 94%|█████████▍| 85/90 [00:33<00:02,  2.07it/s]"
     ]
    },
    {
     "name": "stdout",
     "output_type": "stream",
     "text": [
      "outputs/seg_results/images\n",
      "outputs/seg_results/images/result\n"
     ]
    },
    {
     "name": "stderr",
     "output_type": "stream",
     "text": [
      " 96%|█████████▌| 86/90 [00:34<00:01,  2.00it/s]"
     ]
    },
    {
     "name": "stdout",
     "output_type": "stream",
     "text": [
      "outputs/seg_results/images\n",
      "outputs/seg_results/images/result\n"
     ]
    },
    {
     "name": "stderr",
     "output_type": "stream",
     "text": [
      " 97%|█████████▋| 87/90 [00:34<00:01,  1.90it/s]"
     ]
    },
    {
     "name": "stdout",
     "output_type": "stream",
     "text": [
      "outputs/seg_results/images\n",
      "outputs/seg_results/images/result\n"
     ]
    },
    {
     "name": "stderr",
     "output_type": "stream",
     "text": [
      " 98%|█████████▊| 88/90 [00:35<00:01,  1.87it/s]"
     ]
    },
    {
     "name": "stdout",
     "output_type": "stream",
     "text": [
      "outputs/seg_results/images\n",
      "outputs/seg_results/images/result\n"
     ]
    },
    {
     "name": "stderr",
     "output_type": "stream",
     "text": [
      " 99%|█████████▉| 89/90 [00:35<00:00,  1.84it/s]"
     ]
    },
    {
     "name": "stdout",
     "output_type": "stream",
     "text": [
      "outputs/seg_results/images\n",
      "outputs/seg_results/images/result\n"
     ]
    },
    {
     "name": "stderr",
     "output_type": "stream",
     "text": [
      "100%|██████████| 90/90 [00:36<00:00,  2.48it/s]"
     ]
    },
    {
     "name": "stdout",
     "output_type": "stream",
     "text": [
      "outputs/seg_results/images\n",
      "outputs/seg_results/images/result\n",
      "Lanes detected\n"
     ]
    },
    {
     "name": "stderr",
     "output_type": "stream",
     "text": [
      "\n"
     ]
    }
   ],
   "source": [
    "print(\"Detecting lanes\")\n",
    "lanes_json = eval_lanenet(frames_dir, LANENET_WEIGHTS, SAVE_DIR + \"images\", save_json)\n",
    "print(\"Lanes detected\")"
   ]
  },
  {
   "cell_type": "code",
   "execution_count": 6,
   "metadata": {},
   "outputs": [
    {
     "data": {
      "text/plain": [
       "odict_keys(['image_0.jpeg', 'image_1.jpeg', 'image_2.jpeg', 'image_3.jpeg', 'image_4.jpeg', 'image_5.jpeg', 'image_6.jpeg', 'image_7.jpeg', 'image_8.jpeg', 'image_9.jpeg', 'image_10.jpeg', 'image_11.jpeg', 'image_12.jpeg', 'image_13.jpeg', 'image_14.jpeg', 'image_15.jpeg', 'image_16.jpeg', 'image_17.jpeg', 'image_18.jpeg', 'image_19.jpeg', 'image_20.jpeg', 'image_21.jpeg', 'image_22.jpeg', 'image_23.jpeg', 'image_24.jpeg', 'image_25.jpeg', 'image_26.jpeg', 'image_27.jpeg', 'image_28.jpeg', 'image_29.jpeg', 'image_30.jpeg', 'image_31.jpeg', 'image_32.jpeg', 'image_33.jpeg', 'image_34.jpeg', 'image_35.jpeg', 'image_36.jpeg', 'image_37.jpeg', 'image_38.jpeg', 'image_39.jpeg', 'image_40.jpeg', 'image_41.jpeg', 'image_42.jpeg', 'image_43.jpeg', 'image_44.jpeg', 'image_45.jpeg', 'image_46.jpeg', 'image_47.jpeg', 'image_48.jpeg', 'image_49.jpeg', 'image_50.jpeg', 'image_51.jpeg', 'image_52.jpeg', 'image_53.jpeg', 'image_54.jpeg', 'image_55.jpeg', 'image_56.jpeg', 'image_57.jpeg', 'image_58.jpeg', 'image_59.jpeg', 'image_60.jpeg', 'image_61.jpeg', 'image_62.jpeg', 'image_63.jpeg', 'image_64.jpeg', 'image_65.jpeg', 'image_66.jpeg', 'image_67.jpeg', 'image_68.jpeg', 'image_69.jpeg', 'image_70.jpeg', 'image_71.jpeg', 'image_72.jpeg', 'image_73.jpeg', 'image_74.jpeg', 'image_75.jpeg', 'image_76.jpeg', 'image_77.jpeg', 'image_78.jpeg', 'image_79.jpeg', 'image_80.jpeg', 'image_81.jpeg', 'image_82.jpeg', 'image_83.jpeg', 'image_84.jpeg', 'image_85.jpeg', 'image_86.jpeg', 'image_87.jpeg', 'image_88.jpeg', 'image_89.jpeg'])"
      ]
     },
     "execution_count": 6,
     "metadata": {},
     "output_type": "execute_result"
    }
   ],
   "source": [
    "lanes_json = OrderedDict(sorted(lanes_json.items(), key=lambda x: int(x[0].split(\"_\")[-1].split(\".\")[0])))\n",
    "lanes_json.keys()"
   ]
  },
  {
   "attachments": {},
   "cell_type": "markdown",
   "metadata": {},
   "source": [
    "Yolo"
   ]
  },
  {
   "cell_type": "code",
   "execution_count": 7,
   "metadata": {},
   "outputs": [],
   "source": [
    "YOLO_WEIGHTS = \"../yolov7/yolov7.pt\"\n",
    "YOLO_PATH = \"outputs/yolo\"\n",
    "CONF = 0.5\n",
    "SOURCE = frames_dir\n",
    "IMG_SIZE = 1280"
   ]
  },
  {
   "cell_type": "code",
   "execution_count": 8,
   "metadata": {},
   "outputs": [
    {
     "name": "stdout",
     "output_type": "stream",
     "text": [
      "YOLO done\n"
     ]
    }
   ],
   "source": [
    "os.system(f\"python ../yolov7/detect.py --weights {YOLO_WEIGHTS} --source {SOURCE} --conf {CONF} --img-size {IMG_SIZE} --save-txt --project {YOLO_PATH}\")\n",
    "print(\"YOLO done\")"
   ]
  },
  {
   "attachments": {},
   "cell_type": "markdown",
   "metadata": {},
   "source": [
    "Homography"
   ]
  },
  {
   "cell_type": "code",
   "execution_count": 11,
   "metadata": {},
   "outputs": [],
   "source": [
    "import cv2\n",
    "import os\n",
    "import numpy as np\n",
    "\n",
    "from modules.yolo_util import getAnnotations, removeNoncar, itsBboxTime, overlay\n",
    "from modules.homo_util import src_pts, dst_pts, line_eq, bbox_mid_pts"
   ]
  },
  {
   "cell_type": "code",
   "execution_count": 20,
   "metadata": {},
   "outputs": [],
   "source": [
    "def homoify(pts, data_path=\"../test_set\", yolo_path=\"outputs/yolo\", save_path=\"outputs/seg_results\", const_image=(1312, 1312)):\n",
    "    final_frames = []\n",
    "    yolo_folder = sorted(os.listdir(yolo_path), key=lambda x: int(x.replace(\"exp\", \"0\")))[-1]\n",
    "    for frame in pts.keys():\n",
    "        frame_num = frame.split(\"/\")[-1].split(\".\")[0]\n",
    "        temp = \"/\".join(frame.split(\"/\")[1:-1])\n",
    "        txt_path = f\"{yolo_path}/{yolo_folder}/labels/{frame_num}.txt\"\n",
    "        if not os.path.exists(txt_path):\n",
    "            # print(f\"txt file not found for {txt_path}\")\n",
    "            continue\n",
    "        img_path = f\"{data_path}/{frame}\"\n",
    "        if not os.path.exists(img_path):\n",
    "            # print(f\"image not found for {img_path}\")\n",
    "            continue\n",
    "        seg_result = f\"{save_path}{temp}images/result/{frame_num}.jpeg\"\n",
    "        if not os.path.exists(seg_result):\n",
    "            # print(f\"segmentation result not found for {seg_result}\")\n",
    "            continue\n",
    "        \n",
    "\n",
    "        # print(seg_result)\n",
    "        \n",
    "        #reading image, lanes, and bottom mid point of bboxes\n",
    "        img = cv2.imread(img_path)\n",
    "        # img = cv2.cvtColor(img, cv2.COLOR_BGR2RGB)\n",
    "        lanes = pts[frame]\n",
    "        if len(lanes) < 2:\n",
    "            continue\n",
    "        img_h, img_w, _ = img.shape\n",
    "        bottom_mid_pt = bbox_mid_pts(txt_path)\n",
    "        seg_result_img = cv2.imread(seg_result)\n",
    "        seg_result_img = cv2.cvtColor(seg_result_img, cv2.COLOR_BGR2RGB)\n",
    "\n",
    "        # getting 2 lanes closest to center\n",
    "        diff = list(map(lambda x: abs(x[-1][0] - img_w / 2), lanes))\n",
    "        diff = np.argsort(diff)\n",
    "        diff = diff[:2]\n",
    "        diff.sort()\n",
    "        lane1 = lanes[diff[0]]\n",
    "        lane2 = lanes[diff[1]]\n",
    "        src = np.array(src_pts(lane1, lane2, img_h), dtype=np.float32)\n",
    "        dst = np.array(dst_pts(src), dtype=np.float32)\n",
    "\n",
    "        # homography matrix\n",
    "        H = cv2.getPerspectiveTransform(src, dst)\n",
    "        zeros = np.identity(3)\n",
    "        zeros[:2, 2]  += [0, 750]\n",
    "        H = zeros @ H\n",
    "\n",
    "        # warp image\n",
    "        warp = cv2.warpPerspective(img, H, const_image)\n",
    "\n",
    "        warped_pts = cv2.perspectiveTransform(bottom_mid_pt, H)\n",
    "        warped_pts = np.array([i[0] for i in warped_pts], dtype=np.int32)\n",
    "        warp = overlay(warp, warped_pts)\n",
    "        \n",
    "        line1 = line_eq(np.array([src[0], src[2]]))\n",
    "        line2 = line_eq(np.array([src[1], src[3]]))\n",
    "        line3 = line_eq(np.array([dst[0], dst[2]]))\n",
    "        line4 = line_eq(np.array([dst[1], dst[3]]))\n",
    "        \n",
    "        thresh = 0.01\n",
    "        w = thresh*1280\n",
    "        w2 = thresh*const_image[0]\n",
    "        left = 0\n",
    "        right = 0\n",
    "        changing = 0\n",
    "        for i in bottom_mid_pt:\n",
    "            ctr = 0\n",
    "            i = i[0]\n",
    "            i = i.astype(np.int32)\n",
    "            i2 = (H @ np.append(i, 1))\n",
    "            i2 = i2 / i2[2]\n",
    "            i2 = i2[:2]\n",
    "            i2 = i2.astype(np.int32)\n",
    "            lp1 = -(line1[2] + line1[1]*i[1]) / line1[0]\n",
    "            lp2 = -(line2[2] + line2[1]*i[1]) / line2[0]\n",
    "            lp3 = -(line3[2] + line3[1]*i2[1]) / line3[0]\n",
    "            lp4 = -(line4[2] + line4[1]*i2[1]) / line4[0]\n",
    "            left += 1 if i[0] <= lp1 else 0\n",
    "            right += 1 if i[0] >= lp2 else 0\n",
    "            # if (i[0] > lp1 - w and i[0] < lp1 + w):\n",
    "            #     ctr += 1\n",
    "            #     seg_result_img = cv2.circle(seg_result_img, i, 30, (255, 0, 0), -1)\n",
    "            # elif (i[0] > lp2 - w and i[0] < lp2 + w):\n",
    "            #     ctr += 1\n",
    "            #     seg_result_img = cv2.circle(seg_result_img, i, 30, (0, 255, 0), -1)\n",
    "\n",
    "            if (i2[0] > lp3 - w2 and i2[0] < lp3 + w2):\n",
    "                ctr += 1\n",
    "                warp = cv2.circle(warp, i2, 30, (255, 0, 0), -1)\n",
    "                seg_result_img = cv2.circle(seg_result_img, i, 30, (255, 0, 0), -1)\n",
    "            elif (i2[0] > lp4 - w2 and i2[0] < lp4 + w2):\n",
    "                ctr += 1\n",
    "                warp = cv2.circle(warp, i2, 30, (0, 255, 0), -1)\n",
    "                seg_result_img = cv2.circle(seg_result_img, i, 30, (0, 255, 0), -1)\n",
    "            changing += 0 if ctr == 0 else 1\n",
    "            # print(\"changing\") if ctr >= 1 else None\n",
    "        final_frames.append({\"img\": warp, \"num_lanes\": len(\n",
    "            lanes), \"num_objs\": len(bottom_mid_pt), \"left\": left, \"right\": right, \"changing\": changing, \"seg\": seg_result_img})\n",
    "\n",
    "    return final_frames"
   ]
  },
  {
   "cell_type": "code",
   "execution_count": 23,
   "metadata": {},
   "outputs": [
    {
     "name": "stdout",
     "output_type": "stream",
     "text": [
      "16 Frames ready for video writing\n"
     ]
    }
   ],
   "source": [
    "final_frames = homoify(lanes_json, \"../images\", YOLO_PATH, SAVE_DIR, CONST_IMAGE)\n",
    "print(f\"{len(final_frames)} Frames ready for video writing\")"
   ]
  },
  {
   "attachments": {},
   "cell_type": "markdown",
   "metadata": {},
   "source": [
    "Writing Video"
   ]
  },
  {
   "cell_type": "code",
   "execution_count": 25,
   "metadata": {},
   "outputs": [],
   "source": [
    "import cv2\n",
    "import numpy as np\n",
    "import os\n",
    "\n",
    "from modules.video_util import read_imgs, TextingOnImg, cat_images"
   ]
  },
  {
   "cell_type": "code",
   "execution_count": 29,
   "metadata": {},
   "outputs": [],
   "source": [
    "def read_imgs(frames_dir):\n",
    "    frames = [frames_dir + \"/\" + x for x in os.listdir(frames_dir)]\n",
    "    frames = sorted(frames, key=lambda x: int(x.split(\"_\")[-1].split(\".\")[0]))\n",
    "    frames = [cv2.imread(x) for x in frames]\n",
    "    frames = [cv2.cvtColor(x, cv2.COLOR_BGR2RGB) for x in frames]\n",
    "    return frames\n",
    "\n",
    "def TextingOnImg(const_image_size, num_lanes, num_objs, num_left, num_right, num_changing):\n",
    "    black_img = np.zeros(const_image_size, np.uint8)\n",
    "    text1 = \"Textual summary of current scene: \"\n",
    "    text2 = f\"Total number of lanes: {num_lanes}\"\n",
    "    text3 = f\"Total number of objects: {num_objs}\"\n",
    "    text4 = f\"Total number of left lanes: {num_left}\"\n",
    "    text5 = f\"Total number of right lanes: {num_right}\"\n",
    "    text6 = f\"Total number of changing lanes: {num_changing}\"\n",
    "    \n",
    "\n",
    "    black_img = cv2.putText(black_img, text1, (20, 100), cv2.FONT_HERSHEY_PLAIN, 3, (255, 255, 255), 3)\n",
    "    black_img = cv2.putText(black_img, text2, (20, 100 + 50), cv2.FONT_HERSHEY_PLAIN, 3, (255, 255, 255), 3)\n",
    "    black_img = cv2.putText(black_img, text3, (20, 100 + 100), cv2.FONT_HERSHEY_PLAIN, 3, (255, 255, 255), 3)\n",
    "    black_img = cv2.putText(black_img, text4, (20, 100 + 150), cv2.FONT_HERSHEY_PLAIN, 3, (255, 255, 255), 3)\n",
    "    black_img = cv2.putText(black_img, text5, (20, 100 + 200), cv2.FONT_HERSHEY_PLAIN, 3, (255, 255, 255), 3)\n",
    "    black_img = cv2.putText(black_img, text6, (20, 100 + 250), cv2.FONT_HERSHEY_PLAIN, 3, (255, 255, 255), 3)\n",
    "\n",
    "    return black_img\n",
    "\n",
    "def cat_images(top_view, blackImg, instanceSeg, source, max_w, max_h):\n",
    "    canvas = np.zeros((max_h, max_w, 3), np.uint8)\n",
    "    canvas[:source.shape[0], :source.shape[1]] = source\n",
    "    canvas[:instanceSeg.shape[0], source.shape[1]:source.shape[1] + instanceSeg.shape[1]] = instanceSeg\n",
    "    canvas[source.shape[0]:source.shape[0] + top_view.shape[0], :top_view.shape[1]] = top_view\n",
    "    canvas[source.shape[0]:source.shape[0] + blackImg.shape[0], top_view.shape[1]:top_view.shape[1] + blackImg.shape[1]] = blackImg\n",
    "\n",
    "    return canvas\n",
    "\n",
    "def videoify(clip_num, final_frames, vid_path, save_dir, const_image=(1312, 1312)):\n",
    "    laneNetResultsPath = os.path.join(save_dir,clip_num)\n",
    "    instanceSegResultsPath = f\"{laneNetResultsPath}/instance_seg\"\n",
    "    sourceResultsPath = f\"{laneNetResultsPath}/result\"\n",
    "    instanceSeg = read_imgs(instanceSegResultsPath)\n",
    "    source = read_imgs(sourceResultsPath)\n",
    "    instanceSeg = [cv2.resize(x, (1280, 720)) for x in instanceSeg]\n",
    "    instanceSeg = [cv2.cvtColor(x, cv2.COLOR_BGR2RGB) for x in instanceSeg]\n",
    "\n",
    "    max_w = max(const_image[1], instanceSeg[0].shape[1], source[0].shape[1]) * 2\n",
    "    max_h = const_image[0] + source[0].shape[0]\n",
    "\n",
    "    vid = cv2.VideoWriter(vid_path, cv2.VideoWriter_fourcc(*'mp4v'), 4, (max_w, max_h))\n",
    "    for idx in range(len(final_frames)):\n",
    "        top_view = final_frames[idx]['img']\n",
    "        num_lanes = final_frames[idx]['num_lanes']\n",
    "        num_objs = final_frames[idx]['num_objs']\n",
    "        num_left = final_frames[idx]['left']\n",
    "        num_right = final_frames[idx]['right']\n",
    "        num_changing = final_frames[idx]['changing']\n",
    "        seg_result_img = final_frames[idx]['seg']\n",
    "        blackImg = TextingOnImg((const_image[0], const_image[1], 3), num_lanes, num_objs, num_left, num_right, num_changing)\n",
    "        canvas = cat_images(top_view, blackImg, instanceSeg[idx], seg_result_img, max_w, max_h)\n",
    "\n",
    "        vid.write(canvas)\n",
    "    vid.release()\n",
    "    \n",
    "    return \"Video Written\""
   ]
  },
  {
   "cell_type": "code",
   "execution_count": 31,
   "metadata": {},
   "outputs": [
    {
     "name": "stdout",
     "output_type": "stream",
     "text": [
      "Video written in outputs/vids/.mp4\n"
     ]
    }
   ],
   "source": [
    "videoify(frames_dir.replace(\"../\", \"\"), final_frames, os.path.join(VID_DIR, \"images.mp4\"), SAVE_DIR, CONST_IMAGE)\n",
    "print(f\"Video written in {vid_path}\")"
   ]
  }
 ],
 "metadata": {
  "kernelspec": {
   "display_name": "laneNet",
   "language": "python",
   "name": "python3"
  },
  "language_info": {
   "codemirror_mode": {
    "name": "ipython",
    "version": 3
   },
   "file_extension": ".py",
   "mimetype": "text/x-python",
   "name": "python",
   "nbconvert_exporter": "python",
   "pygments_lexer": "ipython3",
   "version": "3.7.15"
  },
  "orig_nbformat": 4,
  "vscode": {
   "interpreter": {
    "hash": "01d6a066a0ce4a4801ed76504f28ce9c8ac9687025d1b36b63edf41b325c3f8e"
   }
  }
 },
 "nbformat": 4,
 "nbformat_minor": 2
}
