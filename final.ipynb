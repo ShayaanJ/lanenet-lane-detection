{
 "cells": [
  {
   "cell_type": "code",
   "execution_count": 1,
   "metadata": {},
   "outputs": [],
   "source": [
    "import os\n",
    "import json\n",
    "from collections import OrderedDict\n",
    "\n",
    "from evaluate_lanenet_on_tusimple import eval_lanenet\n",
    "from modules.homo_util import homoify\n",
    "from modules.video_util import videoify"
   ]
  },
  {
   "cell_type": "code",
   "execution_count": 2,
   "metadata": {},
   "outputs": [],
   "source": [
    "DATA_PATH = \"../test_set\"\n",
    "JSON_PATH = \"outputs/json/\"\n",
    "SAVE_DIR = \"outputs/seg_results/\"\n",
    "VID_DIR = \"outputs/vids/\"\n",
    "\n",
    "CONST_IMAGE = (1312, 1312)\n",
    "LANENET_WEIGHTS=\"weights/tusimple_lanenet.ckpt\""
   ]
  },
  {
   "cell_type": "code",
   "execution_count": 3,
   "metadata": {},
   "outputs": [],
   "source": [
    "# frames_dir = \"../test_set/clips/0531/1492626499813320696\"\n",
    "frames_dir = \"../test_set/clips/0530/1492626191132352208_0\""
   ]
  },
  {
   "cell_type": "code",
   "execution_count": 4,
   "metadata": {},
   "outputs": [
    {
     "data": {
      "text/plain": [
       "'0530_1492626191132352208_0'"
      ]
     },
     "execution_count": 4,
     "metadata": {},
     "output_type": "execute_result"
    }
   ],
   "source": [
    "clip_num = \"_\".join(frames_dir.split(\"/\")[3:])\n",
    "save_json = os.path.join(JSON_PATH, clip_num + \".json\")\n",
    "vid_path = os.path.join(VID_DIR, clip_num + \".mp4\")\n",
    "clip_num"
   ]
  },
  {
   "attachments": {},
   "cell_type": "markdown",
   "metadata": {},
   "source": [
    "Detecting Lanes using lanenet"
   ]
  },
  {
   "cell_type": "code",
   "execution_count": 5,
   "metadata": {},
   "outputs": [
    {
     "name": "stdout",
     "output_type": "stream",
     "text": [
      "Detecting lanes\n"
     ]
    },
    {
     "name": "stderr",
     "output_type": "stream",
     "text": [
      "  0%|          | 0/20 [00:00<?, ?it/s]2022-12-23 12:19:48.753 | INFO     | evaluate_lanenet_on_tusimple:eval_lanenet:152 - Mean inference time every single image: 0.55315s\n",
      "100%|██████████| 20/20 [00:10<00:00,  1.95it/s]"
     ]
    },
    {
     "name": "stdout",
     "output_type": "stream",
     "text": [
      "Lanes detected\n"
     ]
    },
    {
     "name": "stderr",
     "output_type": "stream",
     "text": [
      "\n"
     ]
    }
   ],
   "source": [
    "print(\"Detecting lanes\")\n",
    "lanes_json = eval_lanenet(frames_dir, LANENET_WEIGHTS, SAVE_DIR, save_json)\n",
    "print(\"Lanes detected\")\n",
    "lanes_json = OrderedDict(sorted(lanes_json.items(), key=lambda x: int(x[0].split(\"/\")[-1].split(\".\")[0])))"
   ]
  },
  {
   "cell_type": "code",
   "execution_count": 6,
   "metadata": {},
   "outputs": [
    {
     "data": {
      "text/plain": [
       "odict_keys(['clips/0530/1492626191132352208_0/1.jpg', 'clips/0530/1492626191132352208_0/2.jpg', 'clips/0530/1492626191132352208_0/3.jpg', 'clips/0530/1492626191132352208_0/4.jpg', 'clips/0530/1492626191132352208_0/5.jpg', 'clips/0530/1492626191132352208_0/6.jpg', 'clips/0530/1492626191132352208_0/7.jpg', 'clips/0530/1492626191132352208_0/8.jpg', 'clips/0530/1492626191132352208_0/9.jpg', 'clips/0530/1492626191132352208_0/10.jpg', 'clips/0530/1492626191132352208_0/11.jpg', 'clips/0530/1492626191132352208_0/12.jpg', 'clips/0530/1492626191132352208_0/13.jpg', 'clips/0530/1492626191132352208_0/14.jpg', 'clips/0530/1492626191132352208_0/15.jpg', 'clips/0530/1492626191132352208_0/16.jpg', 'clips/0530/1492626191132352208_0/17.jpg', 'clips/0530/1492626191132352208_0/18.jpg', 'clips/0530/1492626191132352208_0/19.jpg', 'clips/0530/1492626191132352208_0/20.jpg'])"
      ]
     },
     "execution_count": 6,
     "metadata": {},
     "output_type": "execute_result"
    }
   ],
   "source": [
    "lanes_json.keys()"
   ]
  },
  {
   "attachments": {},
   "cell_type": "markdown",
   "metadata": {},
   "source": [
    "Yolo"
   ]
  },
  {
   "cell_type": "code",
   "execution_count": 7,
   "metadata": {},
   "outputs": [
    {
     "data": {
      "text/plain": [
       "'../test_set/clips/0530/1492626191132352208_0'"
      ]
     },
     "execution_count": 7,
     "metadata": {},
     "output_type": "execute_result"
    }
   ],
   "source": [
    "frames_dir"
   ]
  },
  {
   "cell_type": "code",
   "execution_count": 8,
   "metadata": {},
   "outputs": [],
   "source": [
    "YOLO_WEIGHTS = \"../yolov7/yolov7.pt\"\n",
    "YOLO_PATH = \"outputs/yolo\"\n",
    "CONF = 0.25\n",
    "SOURCE = frames_dir\n",
    "IMG_SIZE = 1280"
   ]
  },
  {
   "cell_type": "code",
   "execution_count": 9,
   "metadata": {},
   "outputs": [
    {
     "name": "stdout",
     "output_type": "stream",
     "text": [
      "YOLO done\n"
     ]
    }
   ],
   "source": [
    "os.system(f\"python ../yolov7/detect.py --weights {YOLO_WEIGHTS} --source {SOURCE} --conf {CONF} --img-size {IMG_SIZE} --save-txt --project {YOLO_PATH}\")\n",
    "print(\"YOLO done\")"
   ]
  },
  {
   "attachments": {},
   "cell_type": "markdown",
   "metadata": {},
   "source": [
    "Homography"
   ]
  },
  {
   "cell_type": "code",
   "execution_count": 10,
   "metadata": {},
   "outputs": [
    {
     "name": "stdout",
     "output_type": "stream",
     "text": [
      "Final Frames ready for video writing\n"
     ]
    }
   ],
   "source": [
    "final_frames = homoify(lanes_json, DATA_PATH, YOLO_PATH, CONST_IMAGE)\n",
    "print(\"Final Frames ready for video writing\")"
   ]
  },
  {
   "attachments": {},
   "cell_type": "markdown",
   "metadata": {},
   "source": [
    "Writing Video"
   ]
  },
  {
   "cell_type": "code",
   "execution_count": 11,
   "metadata": {},
   "outputs": [
    {
     "name": "stdout",
     "output_type": "stream",
     "text": [
      "Video written in outputs/vids/0530_1492626191132352208_0.mp4\n"
     ]
    }
   ],
   "source": [
    "videoify(final_frames, vid_path)\n",
    "print(f\"Video written in {vid_path}\")"
   ]
  }
 ],
 "metadata": {
  "kernelspec": {
   "display_name": "laneNet",
   "language": "python",
   "name": "python3"
  },
  "language_info": {
   "codemirror_mode": {
    "name": "ipython",
    "version": 3
   },
   "file_extension": ".py",
   "mimetype": "text/x-python",
   "name": "python",
   "nbconvert_exporter": "python",
   "pygments_lexer": "ipython3",
   "version": "3.7.15"
  },
  "orig_nbformat": 4,
  "vscode": {
   "interpreter": {
    "hash": "01d6a066a0ce4a4801ed76504f28ce9c8ac9687025d1b36b63edf41b325c3f8e"
   }
  }
 },
 "nbformat": 4,
 "nbformat_minor": 2
}
