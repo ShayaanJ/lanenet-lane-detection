{
 "cells": [
  {
   "cell_type": "code",
   "execution_count": 44,
   "metadata": {},
   "outputs": [],
   "source": [
    "import os\n",
    "import json\n",
    "from collections import OrderedDict\n",
    "\n",
    "from evaluate_lanenet_on_tusimple import eval_lanenet\n",
    "from modules.homo_util import homoify\n",
    "from modules.video_util import videoify\n",
    "%matplotlib inline"
   ]
  },
  {
   "cell_type": "code",
   "execution_count": 2,
   "metadata": {},
   "outputs": [],
   "source": [
    "DATA_PATH = \"../test_set\"\n",
    "JSON_PATH = \"outputs/json/\"\n",
    "SAVE_DIR = \"outputs/seg_results/\"\n",
    "VID_DIR = \"outputs/vids/\"\n",
    "\n",
    "CONST_IMAGE = (1312, 1312)\n",
    "LANENET_WEIGHTS=\"weights/tusimple_lanenet.ckpt\""
   ]
  },
  {
   "cell_type": "code",
   "execution_count": 3,
   "metadata": {},
   "outputs": [],
   "source": [
    "# frames_dir = \"../test_set/clips/0531/1492626499813320696\"\n",
    "frames_dir = \"../test_set/clips/0530/1492626191132352208_0\""
   ]
  },
  {
   "cell_type": "code",
   "execution_count": 4,
   "metadata": {},
   "outputs": [
    {
     "data": {
      "text/plain": [
       "'0530_1492626191132352208_0'"
      ]
     },
     "execution_count": 4,
     "metadata": {},
     "output_type": "execute_result"
    }
   ],
   "source": [
    "clip_num = \"_\".join(frames_dir.split(\"/\")[3:])\n",
    "save_json = os.path.join(JSON_PATH, clip_num + \".json\")\n",
    "vid_path = os.path.join(VID_DIR, clip_num + \".mp4\")\n",
    "clip_num"
   ]
  },
  {
   "attachments": {},
   "cell_type": "markdown",
   "metadata": {},
   "source": [
    "Detecting Lanes using lanenet"
   ]
  },
  {
   "cell_type": "code",
   "execution_count": 5,
   "metadata": {},
   "outputs": [
    {
     "name": "stdout",
     "output_type": "stream",
     "text": [
      "Detecting lanes\n"
     ]
    },
    {
     "name": "stderr",
     "output_type": "stream",
     "text": [
      "  0%|          | 0/20 [00:00<?, ?it/s]2022-12-23 13:22:01.358 | INFO     | evaluate_lanenet_on_tusimple:eval_lanenet:152 - Mean inference time every single image: 0.41311s\n",
      "100%|██████████| 20/20 [00:09<00:00,  2.20it/s]"
     ]
    },
    {
     "name": "stdout",
     "output_type": "stream",
     "text": [
      "Lanes detected\n"
     ]
    },
    {
     "name": "stderr",
     "output_type": "stream",
     "text": [
      "\n"
     ]
    }
   ],
   "source": [
    "print(\"Detecting lanes\")\n",
    "lanes_json = eval_lanenet(frames_dir, LANENET_WEIGHTS, SAVE_DIR, save_json)\n",
    "print(\"Lanes detected\")\n",
    "lanes_json = OrderedDict(sorted(lanes_json.items(), key=lambda x: int(x[0].split(\"/\")[-1].split(\".\")[0])))"
   ]
  },
  {
   "cell_type": "code",
   "execution_count": 6,
   "metadata": {},
   "outputs": [
    {
     "data": {
      "text/plain": [
       "odict_keys(['clips/0530/1492626191132352208_0/1.jpg', 'clips/0530/1492626191132352208_0/2.jpg', 'clips/0530/1492626191132352208_0/3.jpg', 'clips/0530/1492626191132352208_0/4.jpg', 'clips/0530/1492626191132352208_0/5.jpg', 'clips/0530/1492626191132352208_0/6.jpg', 'clips/0530/1492626191132352208_0/7.jpg', 'clips/0530/1492626191132352208_0/8.jpg', 'clips/0530/1492626191132352208_0/9.jpg', 'clips/0530/1492626191132352208_0/10.jpg', 'clips/0530/1492626191132352208_0/11.jpg', 'clips/0530/1492626191132352208_0/12.jpg', 'clips/0530/1492626191132352208_0/13.jpg', 'clips/0530/1492626191132352208_0/14.jpg', 'clips/0530/1492626191132352208_0/15.jpg', 'clips/0530/1492626191132352208_0/16.jpg', 'clips/0530/1492626191132352208_0/17.jpg', 'clips/0530/1492626191132352208_0/18.jpg', 'clips/0530/1492626191132352208_0/19.jpg', 'clips/0530/1492626191132352208_0/20.jpg'])"
      ]
     },
     "execution_count": 6,
     "metadata": {},
     "output_type": "execute_result"
    }
   ],
   "source": [
    "lanes_json.keys()"
   ]
  },
  {
   "attachments": {},
   "cell_type": "markdown",
   "metadata": {},
   "source": [
    "Yolo"
   ]
  },
  {
   "cell_type": "code",
   "execution_count": 8,
   "metadata": {},
   "outputs": [],
   "source": [
    "YOLO_WEIGHTS = \"../yolov7/yolov7.pt\"\n",
    "YOLO_PATH = \"outputs/yolo\"\n",
    "CONF = 0.25\n",
    "SOURCE = frames_dir\n",
    "IMG_SIZE = 1280"
   ]
  },
  {
   "cell_type": "code",
   "execution_count": 9,
   "metadata": {},
   "outputs": [
    {
     "name": "stdout",
     "output_type": "stream",
     "text": [
      "YOLO done\n"
     ]
    }
   ],
   "source": [
    "os.system(f\"python ../yolov7/detect.py --weights {YOLO_WEIGHTS} --source {SOURCE} --conf {CONF} --img-size {IMG_SIZE} --save-txt --project {YOLO_PATH}\")\n",
    "print(\"YOLO done\")"
   ]
  },
  {
   "attachments": {},
   "cell_type": "markdown",
   "metadata": {},
   "source": [
    "Homography"
   ]
  },
  {
   "cell_type": "code",
   "execution_count": 10,
   "metadata": {},
   "outputs": [
    {
     "name": "stdout",
     "output_type": "stream",
     "text": [
      "Final Frames ready for video writing\n"
     ]
    }
   ],
   "source": [
    "final_frames = homoify(lanes_json, DATA_PATH, YOLO_PATH, CONST_IMAGE)\n",
    "print(\"Final Frames ready for video writing\")"
   ]
  },
  {
   "attachments": {},
   "cell_type": "markdown",
   "metadata": {},
   "source": [
    "Writing Video"
   ]
  },
  {
   "cell_type": "code",
   "execution_count": 85,
   "metadata": {},
   "outputs": [],
   "source": [
    "import cv2\n",
    "import matplotlib.pyplot as plt\n",
    "import numpy as np"
   ]
  },
  {
   "cell_type": "code",
   "execution_count": 124,
   "metadata": {},
   "outputs": [],
   "source": [
    "def read_imgs(frames_dir):\n",
    "    frames = [frames_dir + \"/\" + x for x in os.listdir(frames_dir)]\n",
    "    frames = sorted(frames, key=lambda x: int(x.split(\"/\")[-1].split(\".\")[0]))\n",
    "    frames = [cv2.imread(x) for x in frames]\n",
    "    frames = [cv2.cvtColor(x, cv2.COLOR_BGR2RGB) for x in frames]\n",
    "    return frames\n",
    "\n",
    "def TextingOnImg(const_image_size, num_lanes, num_objs):\n",
    "    black_img = np.zeros(const_image_size, np.uint8)\n",
    "    text1 = \"Textual summary of current scene: \"\n",
    "    text1 = f\"Total number of lanes: {num_lanes}\"\n",
    "    text2 = f\"Total number of objects: {num_objs}\"\n",
    "\n",
    "\n",
    "    black_img = cv2.putText(black_img, text1, (20, 100), cv2.FONT_HERSHEY_PLAIN, 3, (255, 255, 255), 3)\n",
    "    black_img = cv2.putText(black_img, text2, (20, 100 + 50), cv2.FONT_HERSHEY_PLAIN, 3, (255, 255, 255), 3)\n",
    "\n",
    "    return black_img\n",
    "\n",
    "def videoify(clip_num, final_frames, vid_path, save_dir, const_image=(1312, 1312)):\n",
    "    laneNetResultsPath = os.path.join(save_dir,clip_num)\n",
    "    instanceSegResultsPath = f\"{laneNetResultsPath}/instance_seg\"\n",
    "    sourceResultsPath = f\"{laneNetResultsPath}/result\"\n",
    "    instanceSeg = read_imgs(instanceSegResultsPath)\n",
    "    source = read_imgs(sourceResultsPath)\n",
    "\n",
    "\n",
    "    # vid = cv2.VideoWriter(vid_path, cv2.VideoWriter_fourcc(*'mp4v'), 4, const_image)\n",
    "    for idx in range(len(final_frames)):\n",
    "        top_view = final_frames[idx]['img']\n",
    "        num_lanes = final_frames[idx]['num_lanes']\n",
    "        num_objs = final_frames[idx]['num_objs']\n",
    "        black_img = TextingOnImg((const_image[0], const_image[1], 3), num_lanes, num_objs)\n",
    "        # plt.imshow(top_view)\n",
    "        # plt.show()\n",
    "        # plt.imshow(instanceSeg[idx])\n",
    "        # plt.show()\n",
    "        # plt.imshow(source[idx])\n",
    "        # plt.show()\n",
    "        plt.imshow(black_img)\n",
    "        plt.show()\n",
    "        break\n",
    "        vid.write(final_frames(idx))\n",
    "    # vid.release()\n",
    "    \n",
    "    return \"Video Written\""
   ]
  },
  {
   "cell_type": "code",
   "execution_count": 125,
   "metadata": {},
   "outputs": [
    {
     "data": {
      "image/png": "[encoded data removed]",
      "text/plain": [
       "<Figure size 640x480 with 1 Axes>"
      ]
     },
     "metadata": {},
     "output_type": "display_data"
    },
    {
     "name": "stdout",
     "output_type": "stream",
     "text": [
      "Video written in outputs/vids/0530_1492626191132352208_0.mp4\n"
     ]
    }
   ],
   "source": [
    "videoify(\"/\".join(frames_dir.split(\"/\")[-2:]), final_frames, vid_path, SAVE_DIR, CONST_IMAGE)\n",
    "print(f\"Video written in {vid_path}\")"
   ]
  }
 ],
 "metadata": {
  "kernelspec": {
   "display_name": "laneNet",
   "language": "python",
   "name": "python3"
  },
  "language_info": {
   "codemirror_mode": {
    "name": "ipython",
    "version": 3
   },
   "file_extension": ".py",
   "mimetype": "text/x-python",
   "name": "python",
   "nbconvert_exporter": "python",
   "pygments_lexer": "ipython3",
   "version": "3.7.15"
  },
  "orig_nbformat": 4,
  "vscode": {
   "interpreter": {
    "hash": "01d6a066a0ce4a4801ed76504f28ce9c8ac9687025d1b36b63edf41b325c3f8e"
   }
  }
 },
 "nbformat": 4,
 "nbformat_minor": 2
}
